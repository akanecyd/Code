{
 "cells": [
  {
   "cell_type": "code",
   "execution_count": 2,
   "metadata": {},
   "outputs": [],
   "source": [
    "import vtk\n",
    "from utils import vis_utils\n",
    "from utils.VTK import VTK_Helper\n",
    "import vis_utils\n",
    "import numpy as np\n",
    "from vtk.util import numpy_support\n"
   ]
  },
  {
   "cell_type": "code",
   "execution_count": 3,
   "metadata": {},
   "outputs": [],
   "source": [
    "poly_file_path = './samples/k1565_pelvis_right.vtk'"
   ]
  },
  {
   "cell_type": "code",
   "execution_count": 4,
   "metadata": {},
   "outputs": [],
   "source": [
    "poly_reader = vis_utils.get_poly_reader(poly_file_path)\n",
    "poly_data = poly_reader.GetOutput()"
   ]
  },
  {
   "cell_type": "code",
   "execution_count": 46,
   "metadata": {},
   "outputs": [
    {
     "name": "stdout",
     "output_type": "stream",
     "text": [
      "vtkDoubleArray (0000022076CA1160)\n",
      "  Debug: Off\n",
      "  Modified Time: 400675\n",
      "  Reference Count: 2\n",
      "  Registered Events: (none)\n",
      "  Name: (none)\n",
      "  Data type: double\n",
      "  Size: 10000\n",
      "  MaxId: 9999\n",
      "  NumberOfComponents: 1\n",
      "  Information: 0000000000000000\n",
      "  Name: (none)\n",
      "  Number Of Components: 1\n",
      "  Number Of Tuples: 10000\n",
      "  Size: 10000\n",
      "  MaxId: 9999\n",
      "  LookupTable: (none)\n",
      "\n",
      "\n"
     ]
    }
   ],
   "source": [
    "#Read polygon\n",
    "n_cells_all = poly_data.GetNumberOfCells()\n",
    "n_cells_col = 70\n",
    "#Initialize array with zeros for all cells\n",
    "cell_data = np.ones(n_cells_all)*7\n",
    "# Loop for each cell you want to color\n",
    "for i in range(n_cells_col):\n",
    "    #Get the cell\n",
    "    cell = poly_data.GetCell(i)\n",
    "    # Assign the value (distance) into the array\n",
    "    cell_data[i] = np.floor(i*0.1)\n",
    "\n",
    "# Set the scalar for all the cells\n",
    "poly_data.GetCellData().SetScalars(numpy_support.numpy_to_vtk(cell_data))\n",
    "print(poly_data.GetCellData().GetScalars())"
   ]
  },
  {
   "cell_type": "code",
   "execution_count": 48,
   "metadata": {},
   "outputs": [],
   "source": [
    "lut = vtk.vtkLookupTable()\n",
    "lut.SetNumberOfTableValues(7)\n",
    "lut.SetTableRange(0, 6)\n",
    "lut.SetTableValue(0,1.0, 0.0, 0.0)\n",
    "lut.SetTableValue(1,1.0, 0.5, 0.0)\n",
    "lut.SetTableValue(2,1.0, 1.0, 0.0)\n",
    "lut.SetTableValue(3,0, 1.0, 1.0)\n",
    "lut.SetTableValue(4,0, 1.0, 1.0)\n",
    "lut.SetTableValue(5,0, 1.0, 0.502)\n",
    "lut.SetTableValue(6,1.0, 1.0, 1.0)\n",
    "lut.Build()\n",
    "# poly_data.GetCellData().GetScalars().SetLookupTable(lut)"
   ]
  },
  {
   "cell_type": "code",
   "execution_count": 49,
   "metadata": {},
   "outputs": [],
   "source": [
    "mapper = vtk.vtkPolyDataMapper()\n",
    "mapper.SetInputConnection(poly_reader.GetOutputPort())\n",
    "mapper.SetScalarRange(0,7) # Maximum value of the scalar (distance)\n",
    "mapper.SetLookupTable(lut)\n",
    "mapper.SetScalarModeToUseCellData()\n",
    "mapper.Update()"
   ]
  },
  {
   "cell_type": "code",
   "execution_count": null,
   "metadata": {},
   "outputs": [],
   "source": [
    "print(poly_data.GetCellData().GetScalars())"
   ]
  },
  {
   "cell_type": "code",
   "execution_count": 50,
   "metadata": {},
   "outputs": [],
   "source": [
    "actor = vis_utils.get_poly_actor(poly_reader,\n",
    "                                edge_visible=True,\n",
    "                                col=(0.9, 0.9, 0.9), \n",
    "                                alpha=1)\n",
    "actor.SetMapper(mapper)"
   ]
  },
  {
   "cell_type": "code",
   "execution_count": 51,
   "metadata": {},
   "outputs": [],
   "source": [
    "renderer, renWindow = vis_utils.get_poly_renderer(off_screen=False,\n",
    "                                                  bg=(1.0, 1.0, 1.0))\n",
    "renderer.AddActor(actor)\n",
    "renWindow.Render()\n",
    "vis_utils.run_renderer_window(renWindow)\n",
    "del renWindow\n"
   ]
  }
 ],
 "metadata": {
  "kernelspec": {
   "display_name": "py36",
   "language": "python",
   "name": "python3"
  },
  "language_info": {
   "codemirror_mode": {
    "name": "ipython",
    "version": 3
   },
   "file_extension": ".py",
   "mimetype": "text/x-python",
   "name": "python",
   "nbconvert_exporter": "python",
   "pygments_lexer": "ipython3",
   "version": "3.6.2"
  },
  "orig_nbformat": 4,
  "vscode": {
   "interpreter": {
    "hash": "7794251eaafdd447f1f8cea96c439068e6b52e3bc20eebf7d2dd6fd7c9b19c39"
   }
  }
 },
 "nbformat": 4,
 "nbformat_minor": 2
}